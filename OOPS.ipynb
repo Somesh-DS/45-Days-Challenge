{
  "nbformat": 4,
  "nbformat_minor": 0,
  "metadata": {
    "colab": {
      "provenance": [],
      "authorship_tag": "ABX9TyNcfCUV3k+WrdilaVU+86TP",
      "include_colab_link": true
    },
    "kernelspec": {
      "name": "python3",
      "display_name": "Python 3"
    },
    "language_info": {
      "name": "python"
    }
  },
  "cells": [
    {
      "cell_type": "markdown",
      "metadata": {
        "id": "view-in-github",
        "colab_type": "text"
      },
      "source": [
        "<a href=\"https://colab.research.google.com/github/Somesh-DS/45-Days-Challenge/blob/main/OOPS.ipynb\" target=\"_parent\"><img src=\"https://colab.research.google.com/assets/colab-badge.svg\" alt=\"Open In Colab\"/></a>"
      ]
    },
    {
      "cell_type": "markdown",
      "source": [
        "## Theory: Object-Oriented Programming (OOPS)\n",
        "OOPS is a programming paradigm that organizes code into objects, which are instances of classes. It’s like building a blueprint (class) and creating real-world items (objects) from it. For your chatbot, OOPS helps structure the code modularly, making it reusable and maintainable."
      ],
      "metadata": {
        "id": "X6EVleRi0edW"
      }
    },
    {
      "cell_type": "markdown",
      "source": [
        "### 1. Classes\n",
        "**Definition:** A class is a blueprint for creating objects. It defines attributes (data) and methods (functions) that describe what an object can store and do.\n",
        "\n",
        "**Analogy:** Think of a class as a recipe for a dish. The recipe (class) lists ingredients (attributes) and steps (methods). Each dish you make (object) follows the recipe."
      ],
      "metadata": {
        "id": "5JK4fLuJ0k5C"
      }
    },
    {
      "cell_type": "code",
      "execution_count": 1,
      "metadata": {
        "id": "a5T63os10a_h"
      },
      "outputs": [],
      "source": [
        "class ResearchBot:\n",
        "    def __init__(self):\n",
        "        self.model = \"gpt-4o-mini\"\n",
        "\n",
        "    def answer_query(self, query):\n",
        "        return f\"Processing {query} with {self.model}\""
      ]
    },
    {
      "cell_type": "markdown",
      "source": [
        "### 2. Objects\n",
        "**Definition:** An object is an instance of a class. It’s the actual “thing” created from the class blueprint, with its own data.\n",
        "\n",
        "**Analogy:** If `ResearchBot` is the recipe, an object is a specific dish made from it, like “Chatbot for AI queries.”"
      ],
      "metadata": {
        "id": "gVUxtBmn0pLP"
      }
    },
    {
      "cell_type": "code",
      "source": [
        "bot = ResearchBot()\n",
        "response = bot.answer_query(\"What is AI?\")\n",
        "print(response)"
      ],
      "metadata": {
        "colab": {
          "base_uri": "https://localhost:8080/"
        },
        "id": "k3kUMI-60xQb",
        "outputId": "10261ffe-0a8e-4e7c-d89d-bbcb1bdca660"
      },
      "execution_count": 2,
      "outputs": [
        {
          "output_type": "stream",
          "name": "stdout",
          "text": [
            "Processing What is AI? with gpt-4o-mini\n"
          ]
        }
      ]
    },
    {
      "cell_type": "markdown",
      "source": [
        "### 3. self\n",
        "**Definition:** `self` refers to the specific object (instance) calling a method. It’s used to access the object’s attributes and methods within the class.\n",
        "\n",
        "**Analogy:** Imagine `self` as a way for the chatbot to say, “Hey, I’m talking about myself!” when accessing its own data."
      ],
      "metadata": {
        "id": "zYkgVs0-4_tG"
      }
    },
    {
      "cell_type": "code",
      "source": [
        "class ResearchBot:\n",
        "    def __init__(self):\n",
        "        self.model = \"gpt-4\"\n",
        "\n",
        "    def answer_query(self, query):\n",
        "        return f\"Processing {query} with {self.model}\"\n",
        "\n",
        "bot = ResearchBot()\n",
        "print(bot.answer_query(\"What is AI?\"))"
      ],
      "metadata": {
        "colab": {
          "base_uri": "https://localhost:8080/"
        },
        "id": "bmSCT-JV5ArT",
        "outputId": "6e9ec7ff-fc65-4a60-feba-0004c7cf0a6c"
      },
      "execution_count": 3,
      "outputs": [
        {
          "output_type": "stream",
          "name": "stdout",
          "text": [
            "Processing What is AI? with gpt-4\n"
          ]
        }
      ]
    },
    {
      "cell_type": "markdown",
      "source": [
        "### 4. Inheritance\n",
        "**Definition:** Inheritance lets a class (child) inherit attributes and methods from another class (parent), promoting code reuse.\n",
        "\n",
        "**Analogy:** If `ResearchBot` is a general chatbot, a child class `AdvancedResearchBot` could inherit its features and add specialized ones."
      ],
      "metadata": {
        "id": "IfHEFcRd5IRA"
      }
    },
    {
      "cell_type": "code",
      "source": [
        "class ResearchBot:\n",
        "    def __init__(self):\n",
        "        self.model = \"gpt-4o-mini\"\n",
        "\n",
        "    def answer_query(self, query):\n",
        "        return f\"Basic answer: {query}\"\n",
        "\n",
        "class AdvancedResearchBot(ResearchBot):\n",
        "    def answer_query(self, query):\n",
        "        basic_answer = super().answer_query(query)\n",
        "        return f\"{basic_answer} with advanced analysis\"\n",
        "\n",
        "bot = AdvancedResearchBot()\n",
        "print(bot.answer_query(\"What is AI?\"))"
      ],
      "metadata": {
        "colab": {
          "base_uri": "https://localhost:8080/"
        },
        "id": "QJ2_7Dfi5Llh",
        "outputId": "5bd634c9-409c-4c03-807b-2de09e364432"
      },
      "execution_count": 4,
      "outputs": [
        {
          "output_type": "stream",
          "name": "stdout",
          "text": [
            "Basic answer: What is AI? with advanced analysis\n"
          ]
        }
      ]
    },
    {
      "cell_type": "markdown",
      "source": [
        "### 5. Polymorphism\n",
        "**Definition:** Polymorphism allows different classes to share the same method name but implement it differently.\n",
        "\n",
        "**Analogy:** Both a dog and a cat can “speak,” but a dog barks and a cat meows—same method, different behavior."
      ],
      "metadata": {
        "id": "vRJSczv75Osv"
      }
    },
    {
      "cell_type": "code",
      "source": [
        "class ResearchBot:\n",
        "    def answer_query(self, query):\n",
        "        return f\"General: {query}\"\n",
        "\n",
        "class MedicalResearchBot(ResearchBot):\n",
        "    def answer_query(self, query):\n",
        "        return f\"Medical: {query} with PubMed data\"\n",
        "\n",
        "bots = [ResearchBot(), MedicalResearchBot()]\n",
        "for bot in bots:\n",
        "    print(bot.answer_query(\"What is AI?\"))"
      ],
      "metadata": {
        "colab": {
          "base_uri": "https://localhost:8080/"
        },
        "id": "kEM9oheE5Rnc",
        "outputId": "878498eb-8e10-4ff2-ebeb-45e39c0bf490"
      },
      "execution_count": 5,
      "outputs": [
        {
          "output_type": "stream",
          "name": "stdout",
          "text": [
            "General: What is AI?\n",
            "Medical: What is AI? with PubMed data\n"
          ]
        }
      ]
    },
    {
      "cell_type": "markdown",
      "source": [
        "### 6. Encapsulation\n",
        "**Definition:** Encapsulation hides a class’s internal data and exposes only what’s necessary through methods, protecting data integrity.\n",
        "\n",
        "**Analogy:** Think of `ResearchBot` as a black box: users can call `answer_query` but can’t mess with the internal model directly."
      ],
      "metadata": {
        "id": "6KvUaufL5UYS"
      }
    },
    {
      "cell_type": "code",
      "source": [
        "class ResearchBot:\n",
        "    def __init__(self):\n",
        "        self._model = \"gpt-4o-mini\"\n",
        "\n",
        "    def get_model(self):\n",
        "        return self._model\n",
        "\n",
        "    def set_model(self, model):\n",
        "        if model in [\"gpt-4o-mini\", \"gpt-4\"]:\n",
        "            self._model = model\n",
        "        else:\n",
        "            raise ValueError(\"Invalid model\")\n",
        "\n",
        "bot = ResearchBot()\n",
        "print(bot.get_model())\n",
        "bot.set_model(\"gpt-4\")"
      ],
      "metadata": {
        "colab": {
          "base_uri": "https://localhost:8080/"
        },
        "id": "ovgYoGRH5XdI",
        "outputId": "788c171d-d2eb-4710-b1e1-c43b788be741"
      },
      "execution_count": 6,
      "outputs": [
        {
          "output_type": "stream",
          "name": "stdout",
          "text": [
            "gpt-4o-mini\n"
          ]
        }
      ]
    }
  ]
}