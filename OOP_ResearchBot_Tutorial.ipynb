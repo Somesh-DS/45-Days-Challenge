{
  "cells": [
    {
      "cell_type": "markdown",
      "metadata": {
        "id": "view-in-github",
        "colab_type": "text"
      },
      "source": [
        "<a href=\"https://colab.research.google.com/github/Somesh-DS/45-Days-Challenge/blob/main/OOP_ResearchBot_Tutorial.ipynb\" target=\"_parent\"><img src=\"https://colab.research.google.com/assets/colab-badge.svg\" alt=\"Open In Colab\"/></a>"
      ]
    },
    {
      "cell_type": "markdown",
      "id": "b491c2d4",
      "metadata": {
        "id": "b491c2d4"
      },
      "source": [
        "<a href=\"https://colab.research.google.com/github/Somesh-DS/45-Days-Challenge/blob/main/AI_Research_Assistant_Chatbot.ipynb\" target=\"_parent\"><img src=\"https://colab.research.google.com/assets/colab-badge.svg\" alt=\"Open In Colab\"/></a>"
      ]
    },
    {
      "cell_type": "markdown",
      "id": "51cbee9a",
      "metadata": {
        "id": "51cbee9a"
      },
      "source": [
        "## Theory: Object-Oriented Programming (OOPS)\n",
        "OOPS is a programming paradigm that organizes code into objects, which are instances of classes. It’s like building a blueprint (class) and creating real-world items (objects) from it. For your chatbot, OOPS helps structure the code modularly, making it reusable and maintainable."
      ]
    },
    {
      "cell_type": "markdown",
      "id": "83640fe4",
      "metadata": {
        "id": "83640fe4"
      },
      "source": [
        "### 1. Classes\n",
        "**Definition:** A class is a blueprint for creating objects. It defines attributes (data) and methods (functions) that describe what an object can store and do.\n",
        "\n",
        "**Analogy:** Think of a class as a recipe for a dish. The recipe (class) lists ingredients (attributes) and steps (methods). Each dish you make (object) follows the recipe."
      ]
    },
    {
      "cell_type": "code",
      "execution_count": 7,
      "id": "ab5e718e",
      "metadata": {
        "id": "ab5e718e"
      },
      "outputs": [],
      "source": [
        "class ResearchBot:\n",
        "    def __init__(self):\n",
        "        self.model = \"gpt-4o-mini\"\n",
        "\n",
        "    def answer_query(self, query):\n",
        "        return f\"Processing {query} with {self.model}\""
      ]
    },
    {
      "cell_type": "markdown",
      "id": "557b7706",
      "metadata": {
        "id": "557b7706"
      },
      "source": [
        "### 2. Objects\n",
        "**Definition:** An object is an instance of a class. It’s the actual “thing” created from the class blueprint, with its own data.\n",
        "\n",
        "**Analogy:** If `ResearchBot` is the recipe, an object is a specific dish made from it, like “Chatbot A for AI queries.”"
      ]
    },
    {
      "cell_type": "code",
      "execution_count": 8,
      "id": "e888156b",
      "metadata": {
        "colab": {
          "base_uri": "https://localhost:8080/"
        },
        "id": "e888156b",
        "outputId": "44b829f9-7d07-4930-da55-e58a47f1566f"
      },
      "outputs": [
        {
          "output_type": "stream",
          "name": "stdout",
          "text": [
            "Processing What is AI? with gpt-4o-mini\n"
          ]
        }
      ],
      "source": [
        "bot = ResearchBot()\n",
        "response = bot.answer_query(\"What is AI?\")\n",
        "print(response)"
      ]
    },
    {
      "cell_type": "markdown",
      "id": "78f61bca",
      "metadata": {
        "id": "78f61bca"
      },
      "source": [
        "### 3. self\n",
        "**Definition:** `self` refers to the specific object (instance) calling a method. It’s used to access the object’s attributes and methods within the class.\n",
        "\n",
        "**Analogy:** Imagine `self` as a way for the chatbot to say, “Hey, I’m talking about myself!” when accessing its own data."
      ]
    },
    {
      "cell_type": "code",
      "execution_count": 9,
      "id": "fa40b58b",
      "metadata": {
        "colab": {
          "base_uri": "https://localhost:8080/"
        },
        "id": "fa40b58b",
        "outputId": "13a0c548-272c-4b6c-c5e5-6d9aeb424fbb"
      },
      "outputs": [
        {
          "output_type": "stream",
          "name": "stdout",
          "text": [
            "Processing What is AI? with gpt-4\n"
          ]
        }
      ],
      "source": [
        "class ResearchBot:\n",
        "    def __init__(self):\n",
        "        self.model = \"gpt-4\"\n",
        "\n",
        "    def answer_query(self, query):\n",
        "        return f\"Processing {query} with {self.model}\"\n",
        "\n",
        "bot = ResearchBot()\n",
        "print(bot.answer_query(\"What is AI?\"))"
      ]
    },
    {
      "cell_type": "markdown",
      "id": "d8b79c5f",
      "metadata": {
        "id": "d8b79c5f"
      },
      "source": [
        "### 4. Inheritance\n",
        "**Definition:** Inheritance lets a class (child) inherit attributes and methods from another class (parent), promoting code reuse.\n",
        "\n",
        "**Analogy:** If `ResearchBot` is a general chatbot, a child class `AdvancedResearchBot` could inherit its features and add specialized ones."
      ]
    },
    {
      "cell_type": "code",
      "execution_count": 10,
      "id": "3f00905a",
      "metadata": {
        "colab": {
          "base_uri": "https://localhost:8080/"
        },
        "id": "3f00905a",
        "outputId": "45e0e064-078c-403e-976d-a9600afdb1c3"
      },
      "outputs": [
        {
          "output_type": "stream",
          "name": "stdout",
          "text": [
            "Basic answer: What is AI? with advanced analysis\n"
          ]
        }
      ],
      "source": [
        "class ResearchBot:\n",
        "    def __init__(self):\n",
        "        self.model = \"gpt-4o-mini\"\n",
        "\n",
        "    def answer_query(self, query):\n",
        "        return f\"Basic answer: {query}\"\n",
        "\n",
        "class AdvancedResearchBot(ResearchBot):\n",
        "    def answer_query(self, query):\n",
        "        basic_answer = super().answer_query(query)\n",
        "        return f\"{basic_answer} with advanced analysis\"\n",
        "\n",
        "bot = AdvancedResearchBot()\n",
        "print(bot.answer_query(\"What is AI?\"))"
      ]
    },
    {
      "cell_type": "markdown",
      "id": "c991ce6e",
      "metadata": {
        "id": "c991ce6e"
      },
      "source": [
        "### 5. Polymorphism\n",
        "**Definition:** Polymorphism allows different classes to share the same method name but implement it differently.\n",
        "\n",
        "**Analogy:** Both a dog and a cat can “speak,” but a dog barks and a cat meows—same method, different behavior."
      ]
    },
    {
      "cell_type": "code",
      "execution_count": 11,
      "id": "1d55987d",
      "metadata": {
        "colab": {
          "base_uri": "https://localhost:8080/"
        },
        "id": "1d55987d",
        "outputId": "47988f95-9573-4fa7-c175-970a34992e12"
      },
      "outputs": [
        {
          "output_type": "stream",
          "name": "stdout",
          "text": [
            "General: What is AI?\n",
            "Medical: What is AI? with PubMed data\n"
          ]
        }
      ],
      "source": [
        "class ResearchBot:\n",
        "    def answer_query(self, query):\n",
        "        return f\"General: {query}\"\n",
        "\n",
        "class MedicalResearchBot(ResearchBot):\n",
        "    def answer_query(self, query):\n",
        "        return f\"Medical: {query} with PubMed data\"\n",
        "\n",
        "bots = [ResearchBot(), MedicalResearchBot()]\n",
        "for bot in bots:\n",
        "    print(bot.answer_query(\"What is AI?\"))"
      ]
    },
    {
      "cell_type": "markdown",
      "id": "d42593ab",
      "metadata": {
        "id": "d42593ab"
      },
      "source": [
        "### 6. Encapsulation\n",
        "**Definition:** Encapsulation hides a class’s internal data and exposes only what’s necessary through methods, protecting data integrity.\n",
        "\n",
        "**Analogy:** Think of `ResearchBot` as a black box: users can call `answer_query` but can’t mess with the internal model directly."
      ]
    },
    {
      "cell_type": "code",
      "execution_count": 12,
      "id": "3057d7a8",
      "metadata": {
        "colab": {
          "base_uri": "https://localhost:8080/"
        },
        "id": "3057d7a8",
        "outputId": "8a66808b-2142-4dc2-9b0e-572ee0118775"
      },
      "outputs": [
        {
          "output_type": "stream",
          "name": "stdout",
          "text": [
            "gpt-4o-mini\n"
          ]
        }
      ],
      "source": [
        "class ResearchBot:\n",
        "    def __init__(self):\n",
        "        self._model = \"gpt-4o-mini\"\n",
        "\n",
        "    def get_model(self):\n",
        "        return self._model\n",
        "\n",
        "    def set_model(self, model):\n",
        "        if model in [\"gpt-4o-mini\", \"gpt-4\"]:\n",
        "            self._model = model\n",
        "        else:\n",
        "            raise ValueError(\"Invalid model\")\n",
        "\n",
        "bot = ResearchBot()\n",
        "print(bot.get_model())\n",
        "bot.set_model(\"gpt-4\")"
      ]
    }
  ],
  "metadata": {
    "colab": {
      "provenance": [],
      "include_colab_link": true
    },
    "language_info": {
      "name": "python"
    },
    "kernelspec": {
      "name": "python3",
      "display_name": "Python 3"
    }
  },
  "nbformat": 4,
  "nbformat_minor": 5
}